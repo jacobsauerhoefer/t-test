{
 "cells": [
  {
   "cell_type": "code",
   "execution_count": 1,
   "metadata": {},
   "outputs": [],
   "source": [
    "x = [ 3.80, 3.80, 3.76, 3.76, 3.72, 3.80, 3.76, 3.76, 3.76, 3.76, 3.76,\n",
    "3.80, 3.76, 3.76, 3.80, 3.76, 3.80, 3.72, 3.76, 3.80, 3.72, 3.76, 3.80, 3.76,\n",
    "3.76, 3.76, 3.76, 3.80, 3.76, 3.72 ];\n",
    "y = [ 3.59, 3.33, 3.32, 3.43, 3.70, 3.77, 3.71, 3.37, 3.77, 3.25, 3.56,\n",
    "3.78, 3.33, 3.67, 3.76, 3.21, 3.48, 3.74, 3.69, 3.25, 3.44, 3.75, 3.81, 3.31,\n",
    "3.14, 3.27, 3.33, 3.24, 3.52, 3.43 ];"
   ]
  },
  {
   "cell_type": "code",
   "execution_count": 5,
   "metadata": {},
   "outputs": [
    {
     "data": {
      "text/plain": [
       "Ttest_indResult(statistic=6.853428558809812, pvalue=1.3538228149574313e-07)"
      ]
     },
     "execution_count": 5,
     "metadata": {},
     "output_type": "execute_result"
    }
   ],
   "source": [
    "from scipy import stats\n",
    "stats.ttest_ind(x,y, equal_var = False)"
   ]
  },
  {
   "cell_type": "markdown",
   "metadata": {},
   "source": [
    "#### Given a significance of α = 0.01\n",
    "#### and a p-value of 1.3538 x 10^-7\n",
    "#### α > p-value and we should reject the null hypothesis."
   ]
  },
  {
   "cell_type": "code",
   "execution_count": 6,
   "metadata": {},
   "outputs": [],
   "source": [
    "## Reference: https://docs.scipy.org/doc/scipy/reference/generated/scipy.stats.ttest_ind.html"
   ]
  }
 ],
 "metadata": {
  "kernelspec": {
   "display_name": "Python 3",
   "language": "python",
   "name": "python3"
  },
  "language_info": {
   "codemirror_mode": {
    "name": "ipython",
    "version": 3
   },
   "file_extension": ".py",
   "mimetype": "text/x-python",
   "name": "python",
   "nbconvert_exporter": "python",
   "pygments_lexer": "ipython3",
   "version": "3.7.6"
  }
 },
 "nbformat": 4,
 "nbformat_minor": 4
}
